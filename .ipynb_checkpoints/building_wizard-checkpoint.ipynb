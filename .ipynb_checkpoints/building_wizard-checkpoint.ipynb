{
 "cells": [
  {
   "cell_type": "code",
   "execution_count": 2,
   "metadata": {},
   "outputs": [
    {
     "name": "stdout",
     "output_type": "stream",
     "text": [
      "What type of building are you working with?\n",
      "When is the final year of your building's expected design life?\n",
      "What is your risk tolerance when it comes to future climate change?\n"
     ]
    }
   ],
   "source": [
    "## Python emulation of building module wizard\n",
    "import wx\n",
    "#import ipywidgets as widgets\n",
    "#from IPython.display import display\n",
    "\n",
    "# Next, create an application object.\n",
    "app = wx.App()\n",
    "\n",
    "# Then a frame.\n",
    "frm = wx.Frame(None, title=\"Hello World\")\n",
    "\n",
    "# Show it.\n",
    "frm.Show()\n",
    "\n",
    "# Start the event loop.\n",
    "app.MainLoop()\n",
    "\n",
    "##Define the building\n",
    "#print(\"What type of building are you working with?\")\n",
    "##building_type=input()\n",
    "#print(\"When is the final year of your building's expected design life?\")\n",
    "##building_design_life=input()\n",
    "#print(\"What is your risk tolerance when it comes to future climate change?\")\n",
    "\n",
    "\n"
   ]
  },
  {
   "cell_type": "code",
   "execution_count": 4,
   "metadata": {},
   "outputs": [
    {
     "data": {
      "application/vnd.jupyter.widget-view+json": {
       "model_id": "b9167bfa550c4d29b301d7f8f9568040",
       "version_major": 2,
       "version_minor": 0
      },
      "text/plain": [
       "IntSlider(value=3, description='Risk Tolerance:', max=10)"
      ]
     },
     "metadata": {},
     "output_type": "display_data"
    }
   ],
   "source": [
    "slider=widgets.IntSlider(\n",
    "    min=0,\n",
    "    max=10,\n",
    "    step=1,\n",
    "    description='Risk Tolerance:',\n",
    "    value=3)\n",
    "display(slider)"
   ]
  },
  {
   "cell_type": "code",
   "execution_count": null,
   "metadata": {},
   "outputs": [],
   "source": []
  },
  {
   "cell_type": "code",
   "execution_count": null,
   "metadata": {},
   "outputs": [],
   "source": []
  },
  {
   "cell_type": "code",
   "execution_count": null,
   "metadata": {},
   "outputs": [],
   "source": []
  },
  {
   "cell_type": "code",
   "execution_count": null,
   "metadata": {},
   "outputs": [],
   "source": []
  }
 ],
 "metadata": {
  "kernelspec": {
   "display_name": "Python 3",
   "language": "python",
   "name": "python3"
  },
  "language_info": {
   "codemirror_mode": {
    "name": "ipython",
    "version": 3
   },
   "file_extension": ".py",
   "mimetype": "text/x-python",
   "name": "python",
   "nbconvert_exporter": "python",
   "pygments_lexer": "ipython3",
   "version": "3.7.9"
  }
 },
 "nbformat": 4,
 "nbformat_minor": 4
}
